{
 "cells": [
  {
   "cell_type": "markdown",
   "metadata": {},
   "source": [
    "# **Introduction to Python**\n"
   ]
  },
  {
   "cell_type": "markdown",
   "metadata": {
    "collapsed": true
   },
   "source": [
    "When I need to build a web app, I reach for Python. When I need to automate some small task on my system, I reach for Python. When I want to find the most common colors in an image, I reach for Python. When I…OK, I think you get the picture. Basically, when I need to code something and the language doesn’t matter, I use Python. So what is Python?\n",
    "\n",
    "Python is a general purpose programming language created in the late 1980s, and named after Monty Python, that’s used by thousands of people to do things from testing microchips at Intel, to powering Instagram, to building video games with the PyGame library. It’s small, very closely resembles the English language, and has hundreds of existing third-party libraries."
   ]
  },
  {
   "cell_type": "markdown",
   "metadata": {},
   "source": [
    "So what are the major reasons why I, personally, choose Python and recommend it to as many people as possible? It comes down to three reasons.\n",
    "\n",
    "1. Readability\n",
    "2. Libraries\n",
    "3. Community"
   ]
  },
  {
   "cell_type": "markdown",
   "metadata": {},
   "source": [
    "### So lets get our hands dirty and write some Code!"
   ]
  },
  {
   "cell_type": "code",
   "execution_count": 9,
   "metadata": {
    "collapsed": false
   },
   "outputs": [
    {
     "name": "stdout",
     "output_type": "stream",
     "text": [
      "Not Hello world this time!\n"
     ]
    }
   ],
   "source": [
    "print \"Not Hello world this time!\"\n",
    "# comment"
   ]
  },
  {
   "cell_type": "markdown",
   "metadata": {},
   "source": [
    " The arithmetic operators +, -, *, /, %, **, //\n",
    " \n",
    " ** Exponential calculation\n",
    " \n",
    " // Floor Division"
   ]
  },
  {
   "cell_type": "code",
   "execution_count": 10,
   "metadata": {
    "collapsed": false
   },
   "outputs": [
    {
     "name": "stdout",
     "output_type": "stream",
     "text": [
      "5 + 2 = 7\n",
      "5 - 2 = 3\n",
      "5 * 2 = 10\n",
      "5 / 2 = 2\n",
      "5 % 2 = 1\n",
      "5 ** 2 = 25\n",
      "5 // 2 = 2\n",
      "1 + 2 - 3 * 2 = -3\n",
      "(1 + 2 - 3) * 2 = 0\n"
     ]
    }
   ],
   "source": [
    "print \"5 + 2 =\", 5+2\n",
    "print \"5 - 2 =\", 5-2\n",
    "print \"5 * 2 =\", 5*2\n",
    "print \"5 / 2 =\", 5/2\n",
    "print\"5 % 2 =\", 5%2\n",
    "print\"5 ** 2 =\", 5**2\n",
    "print\"5 // 2 =\", 5//2\n",
    " \n",
    "# Order of Operation states * and / is performed before + and -\n",
    " \n",
    "print\"1 + 2 - 3 * 2 =\", 1 + 2 - 3 * 2\n",
    "print\"(1 + 2 - 3) * 2 =\", (1 + 2 - 3) * 2"
   ]
  },
  {
   "cell_type": "code",
   "execution_count": 11,
   "metadata": {
    "collapsed": false
   },
   "outputs": [
    {
     "name": "stdout",
     "output_type": "stream",
     "text": [
      "5\n",
      "string\n"
     ]
    }
   ],
   "source": [
    "a = 5\n",
    "print a\n",
    "a = \"string\"\n",
    "print a"
   ]
  },
  {
   "cell_type": "code",
   "execution_count": 12,
   "metadata": {
    "collapsed": false
   },
   "outputs": [
    {
     "name": "stdout",
     "output_type": "stream",
     "text": [
      "\"Always remember your unique, just \n",
      "like everyone\n",
      "else \n"
     ]
    }
   ],
   "source": [
    "# A string is a string of characters surrounded by \" or '\n",
    "# If you must use a \" or ' between the same quote escape it with \\\n",
    "quote = \"\\\"Always remember your unique,\"\n",
    " \n",
    "# A multi-line quote\n",
    "multi_line_quote = ''' just \n",
    "like everyone\n",
    "else '''\n",
    "print quote + multi_line_quote"
   ]
  },
  {
   "cell_type": "code",
   "execution_count": 13,
   "metadata": {
    "collapsed": false
   },
   "outputs": [
    {
     "name": "stdout",
     "output_type": "stream",
     "text": [
      "I like the quote \"Always remember your unique,  just \n",
      "like everyone\n",
      "else \n",
      "I don't like  newlines\n",
      "hello\n",
      "hello\n",
      "hello\n",
      "hello\n",
      "hello\n",
      "\n"
     ]
    }
   ],
   "source": [
    "# To embed a string in output use %s\n",
    "print\"%s %s %s\" % ('I like the quote', quote, multi_line_quote)\n",
    " \n",
    "# To keep from printing newlines use end=\"\"\n",
    "print\"I don't like \",\n",
    "print\"newlines\"\n",
    " \n",
    "# You can print a string multiple times with *\n",
    "print'hello\\n' * 5"
   ]
  },
  {
   "cell_type": "code",
   "execution_count": 14,
   "metadata": {
    "collapsed": false
   },
   "outputs": [
    {
     "name": "stdout",
     "output_type": "stream",
     "text": [
      "[1, 'string', 3, 4.05]\n",
      "1\n"
     ]
    }
   ],
   "source": [
    "# LISTS -------------\n",
    "# A list allows you to create a list of values and manipulate them\n",
    "# Each value has an index with the first one starting at 0\n",
    " \n",
    "my_list = [1,'string',3, 4.05]\n",
    "print my_list\n",
    "print my_list[0]\n",
    " "
   ]
  },
  {
   "cell_type": "markdown",
   "metadata": {},
   "source": [
    "Since Pythons philosophy is to keep it simple, you can have any type of variable in list"
   ]
  },
  {
   "cell_type": "code",
   "execution_count": 15,
   "metadata": {
    "collapsed": false
   },
   "outputs": [
    {
     "name": "stdout",
     "output_type": "stream",
     "text": [
      "[[1, 'string', 3, 4.05], 1]\n"
     ]
    }
   ],
   "source": [
    "m_list = [my_list, 1]\n",
    "print m_list"
   ]
  },
  {
   "cell_type": "markdown",
   "metadata": {},
   "source": [
    "## Slicing \n",
    "#### You can get a subset of the list with [min:up to but not including max]"
   ]
  },
  {
   "cell_type": "code",
   "execution_count": 16,
   "metadata": {
    "collapsed": false
   },
   "outputs": [
    {
     "name": "stdout",
     "output_type": "stream",
     "text": [
      "['string', 3]\n",
      "[1, 'string', 3, 4.05]\n"
     ]
    }
   ],
   "source": [
    " print my_list[1:3]\n",
    " print my_list"
   ]
  },
  {
   "cell_type": "code",
   "execution_count": 17,
   "metadata": {
    "collapsed": false
   },
   "outputs": [
    {
     "name": "stdout",
     "output_type": "stream",
     "text": [
      "[1, 3, 5]\n",
      "[1, 3, 5]\n",
      "[7, 5, 3, 1]\n",
      "[7, 6, 5, 4, 3, 2, 1]\n"
     ]
    }
   ],
   "source": [
    "my_list = [1,2,3,4,5,6,7]\n",
    "a_list = my_list[0:6:2]\n",
    "print a_list\n",
    "a_list = my_list[0:6:2]\n",
    "print a_list\n",
    "a_list = my_list[-1::-2]\n",
    "print a_list\n",
    "a_list = my_list[::-1]\n",
    "print a_list"
   ]
  },
  {
   "cell_type": "markdown",
   "metadata": {},
   "source": [
    "#### Other List functions implemented below"
   ]
  },
  {
   "cell_type": "code",
   "execution_count": 18,
   "metadata": {
    "collapsed": false
   },
   "outputs": [
    {
     "name": "stdout",
     "output_type": "stream",
     "text": [
      "['Green Juice', 'Tomatoes', 'Potatoes', 'Bananas']\n",
      "['Tomatoes', 'Potatoes']\n",
      "[['Wash Car', 'Pick up Kids', 'Cash Check'], ['Green Juice', 'Tomatoes', 'Potatoes', 'Bananas']]\n",
      "Tomatoes\n",
      "[['Wash Car', 'Pick up Kids', 'Cash Check'], ['Green Juice', 'Tomatoes', 'Potatoes', 'Bananas', 'onions']]\n",
      "[['Wash Car', 'Pick up Kids', 'Cash Check'], ['onions', 'Tomatoes', 'Potatoes', 'Green Juice']]\n",
      "['Wash Car', 'Pick up Kids', 'Cash Check', 'onions', 'Tomatoes', 'Potatoes', 'Green Juice']\n",
      "7\n",
      "onions\n",
      "Cash Check\n"
     ]
    }
   ],
   "source": [
    "grocery_list = ['Juice', 'Tomatoes', 'Potatoes', 'Bananas']\n",
    " \n",
    "# You can change the value stored in a list box\n",
    "grocery_list[0] = \"Green Juice\"\n",
    "print grocery_list\n",
    " \n",
    "# You can get a subset of the list with [min:up to but not including max]\n",
    " \n",
    "print grocery_list[1:3]\n",
    " \n",
    "# You can put any data type in a a list including a list\n",
    "other_events = ['Wash Car', 'Pick up Kids', 'Cash Check']\n",
    "to_do_list = [other_events, grocery_list]\n",
    " \n",
    "print to_do_list\n",
    " \n",
    "# Get the second item in the second list (Boxes inside of boxes)\n",
    "print to_do_list[1][1]\n",
    " \n",
    "# You add values using append\n",
    "grocery_list.append('onions')\n",
    "print to_do_list\n",
    " \n",
    "# Insert item at given index\n",
    "grocery_list.insert(1, \"Pickle\")\n",
    " \n",
    "# Remove item from list\n",
    "grocery_list.remove(\"Pickle\")\n",
    " \n",
    "# Sorts items in list\n",
    "grocery_list.sort()\n",
    " \n",
    "# Reverse sort items in list\n",
    "grocery_list.reverse()\n",
    " \n",
    "# del deletes an item at specified index\n",
    "del grocery_list[4]\n",
    "print to_do_list\n",
    " \n",
    "# We can combine lists with a +\n",
    "to_do_list = other_events + grocery_list\n",
    "print(to_do_list)\n",
    " \n",
    "# Get length of list\n",
    "print(len(to_do_list))\n",
    " \n",
    "# Get the max item in list\n",
    "print(max(to_do_list))\n",
    " \n",
    "# Get the minimum item in list\n",
    "print(min(to_do_list))"
   ]
  },
  {
   "cell_type": "code",
   "execution_count": 19,
   "metadata": {
    "collapsed": false
   },
   "outputs": [
    {
     "data": {
      "text/plain": [
       "['__add__',\n",
       " '__class__',\n",
       " '__contains__',\n",
       " '__delattr__',\n",
       " '__delitem__',\n",
       " '__delslice__',\n",
       " '__doc__',\n",
       " '__eq__',\n",
       " '__format__',\n",
       " '__ge__',\n",
       " '__getattribute__',\n",
       " '__getitem__',\n",
       " '__getslice__',\n",
       " '__gt__',\n",
       " '__hash__',\n",
       " '__iadd__',\n",
       " '__imul__',\n",
       " '__init__',\n",
       " '__iter__',\n",
       " '__le__',\n",
       " '__len__',\n",
       " '__lt__',\n",
       " '__mul__',\n",
       " '__ne__',\n",
       " '__new__',\n",
       " '__reduce__',\n",
       " '__reduce_ex__',\n",
       " '__repr__',\n",
       " '__reversed__',\n",
       " '__rmul__',\n",
       " '__setattr__',\n",
       " '__setitem__',\n",
       " '__setslice__',\n",
       " '__sizeof__',\n",
       " '__str__',\n",
       " '__subclasshook__',\n",
       " 'append',\n",
       " 'count',\n",
       " 'extend',\n",
       " 'index',\n",
       " 'insert',\n",
       " 'pop',\n",
       " 'remove',\n",
       " 'reverse',\n",
       " 'sort']"
      ]
     },
     "execution_count": 19,
     "metadata": {},
     "output_type": "execute_result"
    }
   ],
   "source": [
    "dir(my_list)"
   ]
  },
  {
   "cell_type": "code",
   "execution_count": 20,
   "metadata": {
    "collapsed": false
   },
   "outputs": [
    {
     "name": "stdout",
     "output_type": "stream",
     "text": [
      "Help on built-in function append:\n",
      "\n",
      "append(...)\n",
      "    L.append(object) -- append object to end\n",
      "\n"
     ]
    }
   ],
   "source": [
    "help(my_list.append)"
   ]
  },
  {
   "cell_type": "code",
   "execution_count": 21,
   "metadata": {
    "collapsed": false
   },
   "outputs": [
    {
     "name": "stdout",
     "output_type": "stream",
     "text": [
      "[3, 1, 4, 1, 5, 9]\n",
      "('onions', 'Tomatoes', 'Potatoes', 'Green Juice')\n"
     ]
    }
   ],
   "source": [
    "# TUPLES -------------\n",
    "# Values in a tuple can't change like lists\n",
    " \n",
    "pi_tuple = (3, 1, 4, 1, 5, 9)\n",
    "# Convert tuple into a list\n",
    "\n",
    "new_tuple = list(pi_tuple)\n",
    "print new_tuple\n",
    "# Convert a list into a tuple\n",
    "new_list = tuple(grocery_list)\n",
    "print new_list\n",
    "# tuples also have len(tuple), min(tuple) and max(tuple)\n",
    " \n",
    " "
   ]
  },
  {
   "cell_type": "markdown",
   "metadata": {},
   "source": [
    "## Dictionary"
   ]
  },
  {
   "cell_type": "code",
   "execution_count": 25,
   "metadata": {
    "collapsed": false
   },
   "outputs": [
    {
     "name": "stdout",
     "output_type": "stream",
     "text": [
      "Leonarart\n",
      "{'Mirror Master': 'Sam Scudder', 'Pied Piper': 'Thomas Peterson', 'Captain Cold': 'Leonarart', 'Weather Wizard': 'Mark Mardon'}\n",
      "4\n",
      "Hartley Rathaway\n",
      "['Mirror Master', 'Pied Piper', 'Captain Cold', 'Weather Wizard']\n",
      "['Sam Scudder', 'Hartley Rathaway', 'Leonarart', 'Mark Mardon']\n"
     ]
    }
   ],
   "source": [
    "# DICTIONARY or MAP -------------\n",
    "# Made up of values with a unique key for each value\n",
    "# Similar to lists, but you can't join dicts with a +\n",
    " \n",
    "super_villains = {'Fiddler' : 'Isaac Bowin',\n",
    "                  'Fiddler' : 'Isaac B',\n",
    "                  'Captain Cold' : 'Leonard Snart',\n",
    "                  'Captain Cold' : 'Leonarart',\n",
    "                  'Weather Wizard' : 'Mark Mardon',\n",
    "                  'Mirror Master' : 'Sam Scudder',\n",
    "                  'Pied Piper' : 'Thomas Peterson'}\n",
    " \n",
    "print(super_villains['Captain Cold'])\n",
    " \n",
    "# Delete an entry\n",
    "del super_villains['Fiddler']\n",
    "print(super_villains)\n",
    " \n",
    "# Replace a value\n",
    "super_villains['Pied Piper'] = 'Hartley Rathaway'\n",
    " \n",
    "# Print the number of items in the dictionary\n",
    "print(len(super_villains))\n",
    " \n",
    "# Get the value for the passed key\n",
    "print(super_villains.get(\"Pied Piper\"))\n",
    " \n",
    "# Get a list of dictionary keys\n",
    "print(super_villains.keys())\n",
    " \n",
    "# Get a list of dictionary values\n",
    "print(super_villains.values())"
   ]
  },
  {
   "cell_type": "code",
   "execution_count": 28,
   "metadata": {
    "collapsed": false
   },
   "outputs": [
    {
     "name": "stdout",
     "output_type": "stream",
     "text": [
      "I'll\n",
      "Floor\n",
      "I'll catch you if you fall - The \n",
      "I'll be there\n",
      "X is my favorite letter and my number 1 number is 0.14000\n",
      "I'll catch you if you fall - the floor\n",
      "33\n",
      "False\n",
      "False\n",
      "38\n",
      "I'll catch you if you fall - The Ground\n",
      "I'll catch you if you fall - The Floor\n",
      "[\"I'll\", 'catch', 'you', 'if', 'you', 'fall', '-', 'The', 'Floor']\n"
     ]
    }
   ],
   "source": [
    "# STRINGS -------------\n",
    "# A string is a series of characters surrounded by ' or \"\n",
    "long_string = \"I'll catch you if you fall - The Floor\"\n",
    " \n",
    "# Retrieve the first 4 characters\n",
    "print(long_string[0:4])\n",
    " \n",
    "# Get the last 5 characters\n",
    "print(long_string[-5:])\n",
    " \n",
    "# Everything up to the last 5 characters\n",
    "print(long_string[:-5])\n",
    " \n",
    "# Concatenate part of a string to another\n",
    "print(long_string[:4] + \" be there\")\n",
    " \n",
    "# String formatting\n",
    "print(\"%c is my %s letter and my number %d number is %.5f\" % ('X', 'favorite', 1, .14))\n",
    " \n",
    "# Capitalizes the first letter\n",
    "print(long_string.capitalize())\n",
    " \n",
    "# Returns the index of the start of the string\n",
    "# case sensitive\n",
    "print(long_string.find(\"Floor\"))\n",
    " \n",
    "# Returns true if all characters are letters ' isn't a letter\n",
    "print(long_string.isalpha())\n",
    " \n",
    "# Returns true if all characters are numbers\n",
    "print(long_string.isalnum())\n",
    " \n",
    "# Returns the string length\n",
    "print(len(long_string))\n",
    " \n",
    "# Replace the first word with the second (Add a number to replace more)\n",
    "print(long_string.replace(\"Floor\", \"Ground\"))\n",
    " \n",
    "# Remove white space from front and end\n",
    "print(long_string.strip())\n",
    " \n",
    "# Split a string into a list based on the delimiter you provide\n",
    "quote_list = long_string.split(\" \")\n",
    "print(quote_list)\n",
    " "
   ]
  },
  {
   "cell_type": "markdown",
   "metadata": {},
   "source": [
    "#### CONDITIONALS \n",
    "\n",
    "The if, else and elif statements are used to perform different actions based off of conditions\n",
    "\n",
    "Comparison Operators : ** ==, !=, >, <, >=, <= **\n",
    "\n",
    "    \n",
    "The if statement will execute code if a condition is met\n",
    "\n",
    "White space is used to group blocks of code in Python\n",
    "\n",
    "Use the same number of proceeding spaces for blocks of code\n",
    "\n",
    "\n"
   ]
  },
  {
   "cell_type": "code",
   "execution_count": 31,
   "metadata": {
    "collapsed": false
   },
   "outputs": [
    {
     "name": "stdout",
     "output_type": "stream",
     "text": [
      "You get a birthday party\n",
      "yo\n"
     ]
    }
   ],
   "source": [
    "# You can combine conditions with logical operators\n",
    "# Logical Operators : and, or, not\n",
    "age = 15\n",
    "if age >= 1 and age <= 18:\n",
    "    print(\"You get a birthday party\")\n",
    "    print \"yo\"\n",
    "elif age == 21 or age >= 65:\n",
    "    print(\"You get a special birthday party\")\n",
    "elif not age == 30:\n",
    "    print(\"You don't get a birthday party\")\n",
    "else:\n",
    "    print(\"You get a birthday party yeah\")\n",
    " "
   ]
  },
  {
   "cell_type": "markdown",
   "metadata": {},
   "source": [
    "### Loop Contructs"
   ]
  },
  {
   "cell_type": "code",
   "execution_count": null,
   "metadata": {
    "collapsed": false
   },
   "outputs": [],
   "source": [
    "for i in range(0,10):\n",
    "    print i"
   ]
  },
  {
   "cell_type": "code",
   "execution_count": 32,
   "metadata": {
    "collapsed": false
   },
   "outputs": [
    {
     "name": "stdout",
     "output_type": "stream",
     "text": [
      "[7, 6, 5, 4, 3, 2, 1]\n",
      "7 6 5 4 3 2 1\n"
     ]
    }
   ],
   "source": [
    "print a_list\n",
    "for x in a_list:\n",
    "    print x,"
   ]
  },
  {
   "cell_type": "code",
   "execution_count": null,
   "metadata": {
    "collapsed": false
   },
   "outputs": [],
   "source": [
    "# You can double up for loops to cycle through lists\n",
    "num_list =[[1,2,3],[10,20,30],[100,200,300]];\n",
    " \n",
    "for x in range(0,3):\n",
    "    for y in range(0,3):\n",
    "        print num_list[x][y],"
   ]
  },
  {
   "cell_type": "code",
   "execution_count": null,
   "metadata": {
    "collapsed": false
   },
   "outputs": [],
   "source": [
    "v_str = 'python loves you'\n",
    " \n",
    "# Take steps of 2 in a string sequence\n",
    "for x in v_str[0::2]:    \n",
    "    print x,\n",
    " \n",
    "print \"---\"\n",
    " \n",
    "# Now reverse the order\n",
    "for x in v_str[-1::-1]:   \n",
    "    print x,"
   ]
  },
  {
   "cell_type": "code",
   "execution_count": null,
   "metadata": {
    "collapsed": false
   },
   "outputs": [],
   "source": [
    "# WHILE LOOPS -------------\n",
    "# While loops are used when you don't know ahead of time how many\n",
    "# times you'll have to loop\n",
    "# An iterator for a while loop is defined before the loop\n",
    "i = 0\n",
    "while (i <= 20):\n",
    "    if(i%2 == 0):\n",
    "        print(i)\n",
    "    elif(i == 9):\n",
    "        # Forces the loop to end all together\n",
    "        break\n",
    "    else:\n",
    "        # Shorthand for i = i + 1\n",
    "        i += 1\n",
    "        # Skips to the next iteration of the loop\n",
    "        continue\n",
    "    i += 1\n",
    "print \"outside while loop\", i"
   ]
  },
  {
   "cell_type": "markdown",
   "metadata": {},
   "source": [
    "### Functions"
   ]
  },
  {
   "cell_type": "code",
   "execution_count": 33,
   "metadata": {
    "collapsed": false
   },
   "outputs": [
    {
     "data": {
      "text/plain": [
       "('number 1 number 2', 'number 1')"
      ]
     },
     "execution_count": 33,
     "metadata": {},
     "output_type": "execute_result"
    }
   ],
   "source": [
    "# FUNCTIONS -------------\n",
    "# Functions allow you to reuse and write readable code\n",
    "# Type def (define), function name and parameters it receives\n",
    "# return is used to return something to the caller of the function\n",
    "def addNumbers(fNum, sNum):\n",
    "    sumNum = fNum + sNum\n",
    "    return sumNum,fNum\n",
    "addNumbers(56,3)\n",
    "addNumbers(\"number 1\",\" number 2\")"
   ]
  },
  {
   "cell_type": "code",
   "execution_count": 41,
   "metadata": {
    "collapsed": false
   },
   "outputs": [
    {
     "name": "stdout",
     "output_type": "stream",
     "text": [
      "43634968\n",
      "5 43634968\n"
     ]
    }
   ],
   "source": [
    "# NOTE ON ALIASING\n",
    "def do_something(arg):\n",
    "    print id(arg)\n",
    "    arg += 2\n",
    "    return arg\n",
    "    #args.append(1)\n",
    "x = 5\n",
    "do_something(x)\n",
    "print x, id(x)"
   ]
  },
  {
   "cell_type": "code",
   "execution_count": 42,
   "metadata": {
    "collapsed": false
   },
   "outputs": [
    {
     "name": "stdout",
     "output_type": "stream",
     "text": [
      "[5]\n"
     ]
    }
   ],
   "source": [
    "def do_something(arg):\n",
    "    arg = arg * 2 # BREAKS alisasing\n",
    "    arg.append(1)\n",
    "x = [5]\n",
    "do_something(x)\n",
    "print x"
   ]
  },
  {
   "cell_type": "markdown",
   "metadata": {},
   "source": [
    "## PIP \n",
    "### Python Package index"
   ]
  },
  {
   "cell_type": "code",
   "execution_count": null,
   "metadata": {
    "collapsed": false
   },
   "outputs": [],
   "source": [
    "#LINUX OR MACOS USERS\n",
    "#sudo easy_install pip\n",
    "#sudo pip <command> <args>\n",
    "sudo pip install requests"
   ]
  },
  {
   "cell_type": "code",
   "execution_count": null,
   "metadata": {
    "collapsed": true
   },
   "outputs": [],
   "source": [
    "# Windows\n",
    "#python -m pip install -U pip setuptools\n",
    "python\n",
    "import pip\n",
    "#go to terminal\n",
    "python -m pip install requests\n",
    "python\n",
    "import requests\n",
    "#python -m pip install <package-name>"
   ]
  },
  {
   "cell_type": "code",
   "execution_count": null,
   "metadata": {
    "collapsed": true
   },
   "outputs": [],
   "source": [
    "# for those on Windows having problem visit \n",
    "#http://stackoverflow.com/questions/4750806/how-do-i-install-pip-on-windows?rq=1\n"
   ]
  },
  {
   "cell_type": "code",
   "execution_count": null,
   "metadata": {
    "collapsed": true
   },
   "outputs": [],
   "source": [
    "#pip\n",
    "#pip install\n",
    "#pip download\n",
    "#pip uninstall\n",
    "#pip freeze\n",
    "#pip list\n",
    "#pip show\n",
    "#pip search\n",
    "#pip wheel\n",
    "#pip hash"
   ]
  },
  {
   "cell_type": "code",
   "execution_count": null,
   "metadata": {
    "collapsed": false
   },
   "outputs": [],
   "source": [
    "#pip install requests            # latest version\n",
    "#pip install SomePackage==1.0.4     # specific version\n",
    "#pip install 'SomePackage>=1.0.4'     # minimum version\n",
    "#sudo pip install requests>=2.12.5\n",
    "#sudo pip install BeautifulSoup\n",
    "#-I, ignore installed\n",
    "#--upgrade\n",
    "#pip uninstall [options] <package> \n",
    "#pip seach modulename\n",
    "#pip list\n",
    "#pip show <modulename>"
   ]
  },
  {
   "cell_type": "markdown",
   "metadata": {},
   "source": [
    "### Virtual Environment"
   ]
  },
  {
   "cell_type": "markdown",
   "metadata": {},
   "source": [
    "How does virtualenv help?\n",
    "\n",
    "virtualenv solves this problem by creating a completely isolated virtual environment for each of your programs. An environment is simply a directory that contains a complete copy of everything needed to run a Python program, including a copy of the python binary itself, a copy of the entire Python standard library, a copy of the pip installer, and (crucially) a copy of the site-packages directory mentioned above. When you install a package from PyPI using the copy of pip that's created by the virtualenv tool, it will install the package into the site-packages directory inside the virtualenv directory. You can then use it in your program just as before."
   ]
  },
  {
   "cell_type": "code",
   "execution_count": null,
   "metadata": {
    "collapsed": true
   },
   "outputs": [],
   "source": [
    "$sudo pip install virtualenv\n",
    "$cd ~/code/myproject/\n",
    "$virtualenv env\n",
    "$ls env\n",
    "$which python\n",
    "/usr/bin/python\n",
    "$ source env/bin/activate\n",
    "$ deactivate"
   ]
  },
  {
   "cell_type": "markdown",
   "metadata": {},
   "source": [
    "pip is a tool for installing packages from the Python Package Index.\n",
    "\n",
    "virtualenv is a tool for creating isolated Python environments containing their own copy of python, pip, and their own place to keep libraries installed from PyPI.\n",
    "\n",
    "It's designed to allow you to work on multiple projects with different dependencies at the same time on the same machine.\n",
    "After installing it, run virtualenv env to create a new environment inside a directory called env.\n",
    "\n",
    "You'll need one of these environments for each of your projects. Make sure you exclude these directories from your version control system.\n",
    "\n",
    "To use the versions of python and pip inside the environment, type env/bin/python and env/bin/pip respectively.\n",
    "\n",
    "You can \"activate\" an environment with source env/bin/activate and deactivate one with deactivate. This is entirely optional but might make life a little easier.\n"
   ]
  },
  {
   "cell_type": "markdown",
   "metadata": {},
   "source": [
    "Running virtualenv with the option --no-site-packages will not include the packages that are installed globally. This can be useful for keeping the package list clean in case it needs to be accessed later. [This is the default behavior for virtualenv 1.7 and later.]"
   ]
  },
  {
   "cell_type": "markdown",
   "metadata": {},
   "source": [
    "### Requests HTTP Library"
   ]
  },
  {
   "cell_type": "markdown",
   "metadata": {},
   "source": [
    "\n",
    "1\tGET\n",
    "The GET method is used to retrieve information from the given server using a given URI. Requests using GET should only retrieve data and should have no other effect on the data.\n",
    "\n",
    "2\tHEAD\n",
    "Same as GET, but transfers the status line and header section only.\n",
    "\n",
    "3\tPOST\n",
    "A POST request is used to send data to the server, for example, customer information, file upload, etc. using HTML forms.\n",
    "\n",
    "4\tPUT\n",
    "Replaces all current representations of the target resource with the uploaded content.\n",
    "\n",
    "5\tDELETE\n",
    "Removes all current representations of the target resource given by a URI.\n",
    "\n",
    "6\tCONNECT\n",
    "Establishes a tunnel to the server identified by a given URI.\n",
    "\n",
    "7\tOPTIONS\n",
    "Describes the communication options for the target resource.\n",
    "\n",
    "8\tTRACE\n",
    "Performs a message loop-back test along the path to the target resource."
   ]
  },
  {
   "cell_type": "code",
   "execution_count": null,
   "metadata": {
    "collapsed": false
   },
   "outputs": [],
   "source": [
    "import requests\n",
    "r = requests.get('https://google.com')\n",
    "#c = r.content\n",
    "print r.status_code\n",
    "#print c\n",
    "r = requests.post('http://httpbin.org/post', data = {'key':'value'})\n",
    "r.headers\n",
    "r = requests.put('http://httpbin.org/put', data = {'key':'value'})\n",
    "r = requests.delete('http://httpbin.org/delete')\n",
    "r = requests.head('http://httpbin.org/get')\n",
    "r = requests.options('http://httpbin.org/get')"
   ]
  },
  {
   "cell_type": "markdown",
   "metadata": {},
   "source": [
    "### Beautiful soup library"
   ]
  },
  {
   "cell_type": "code",
   "execution_count": 46,
   "metadata": {
    "collapsed": true
   },
   "outputs": [],
   "source": [
    "html_doc = \"\"\"\n",
    "<html><head><title>The Dormouse's story</title></head>\n",
    "<body>\n",
    "<p class=\"title\"><b>The Dormouse's story</b></p>\n",
    "\n",
    "<p class=\"story\">Once upon a time there were three little sisters; and their names were\n",
    "<a href=\"http://example.com/elsie\" class=\"sister\" id=\"link1\">Elsie</a>,\n",
    "<a href=\"http://example.com/lacie\" class=\"sister\" id=\"link2\">Lacie</a> and\n",
    "<a href=\"http://example.com/tillie\" class=\"sister\" id=\"link3\">Tillie</a>;\n",
    "and they lived at the bottom of a well.</p>\n",
    "\n",
    "<p class=\"story\">...</p>\n",
    "\"\"\""
   ]
  },
  {
   "cell_type": "code",
   "execution_count": null,
   "metadata": {
    "collapsed": true
   },
   "outputs": [],
   "source": [
    "#sudo pip install beautifulsoup4"
   ]
  },
  {
   "cell_type": "code",
   "execution_count": 47,
   "metadata": {
    "collapsed": false
   },
   "outputs": [
    {
     "name": "stdout",
     "output_type": "stream",
     "text": [
      "<html>\n",
      " <head>\n",
      "  <title>\n",
      "   The Dormouse's story\n",
      "  </title>\n",
      " </head>\n",
      " <body>\n",
      "  <p class=\"title\">\n",
      "   <b>\n",
      "    The Dormouse's story\n",
      "   </b>\n",
      "  </p>\n",
      "  <p class=\"story\">\n",
      "   Once upon a time there were three little sisters; and their names were\n",
      "   <a class=\"sister\" href=\"http://example.com/elsie\" id=\"link1\">\n",
      "    Elsie\n",
      "   </a>\n",
      "   ,\n",
      "   <a class=\"sister\" href=\"http://example.com/lacie\" id=\"link2\">\n",
      "    Lacie\n",
      "   </a>\n",
      "   and\n",
      "   <a class=\"sister\" href=\"http://example.com/tillie\" id=\"link3\">\n",
      "    Tillie\n",
      "   </a>\n",
      "   ;\n",
      "and they lived at the bottom of a well.\n",
      "  </p>\n",
      "  <p class=\"story\">\n",
      "   ...\n",
      "  </p>\n",
      " </body>\n",
      "</html>\n"
     ]
    }
   ],
   "source": [
    "from bs4 import BeautifulSoup\n",
    "soup = BeautifulSoup(html_doc, 'html.parser')\n",
    "\n",
    "print(soup.prettify())\n"
   ]
  },
  {
   "cell_type": "code",
   "execution_count": 48,
   "metadata": {
    "collapsed": false
   },
   "outputs": [
    {
     "data": {
      "text/plain": [
       "<a class=\"sister\" href=\"http://example.com/tillie\" id=\"link3\">Tillie</a>"
      ]
     },
     "execution_count": 48,
     "metadata": {},
     "output_type": "execute_result"
    }
   ],
   "source": [
    "soup.title\n",
    "# <title>The Dormouse's story</title>\n",
    "\n",
    "soup.title.name\n",
    "# u'title'\n",
    "\n",
    "soup.title.string\n",
    "# u'The Dormouse's story'\n",
    "\n",
    "soup.title.parent.name\n",
    "# u'head'\n",
    "\n",
    "soup.p\n",
    "# <p class=\"title\"><b>The Dormouse's story</b></p>\n",
    "\n",
    "soup.p['class']\n",
    "# u'title'\n",
    "\n",
    "soup.a\n",
    "# <a class=\"sister\" href=\"http://example.com/elsie\" id=\"link1\">Elsie</a>\n",
    "\n",
    "soup.find_all('a')\n",
    "# [<a class=\"sister\" href=\"http://example.com/elsie\" id=\"link1\">Elsie</a>,\n",
    "#  <a class=\"sister\" href=\"http://example.com/lacie\" id=\"link2\">Lacie</a>,\n",
    "#  <a class=\"sister\" href=\"http://example.com/tillie\" id=\"link3\">Tillie</a>]\n",
    "\n",
    "soup.find(id=\"link3\")\n",
    "# <a class=\"sister\" href=\"http://example.com/tillie\" id=\"link3\">Tillie</a>"
   ]
  },
  {
   "cell_type": "code",
   "execution_count": 49,
   "metadata": {
    "collapsed": false
   },
   "outputs": [
    {
     "name": "stdout",
     "output_type": "stream",
     "text": [
      "http://example.com/elsie\n",
      "http://example.com/lacie\n",
      "http://example.com/tillie\n"
     ]
    }
   ],
   "source": [
    "for link in soup.find_all('a'):\n",
    "    print(link.get('href'))"
   ]
  },
  {
   "cell_type": "markdown",
   "metadata": {},
   "source": [
    "Beautiful Soup transforms a complex HTML document into a complex tree of Python objects. But you’ll only ever have to deal with about four kinds of objects: Tag, NavigableString, BeautifulSoup, and Comment."
   ]
  },
  {
   "cell_type": "markdown",
   "metadata": {},
   "source": [
    "Youtube downloader"
   ]
  },
  {
   "cell_type": "code",
   "execution_count": 50,
   "metadata": {
    "collapsed": false
   },
   "outputs": [
    {
     "name": "stdout",
     "output_type": "stream",
     "text": [
      "Enter the name of the song: closer\n",
      "1. The Chainsmokers - Closer (Lyric) ft. Halsey\n",
      "2. The Chainsmokers - Closer ft. Halsey\n",
      "3. Mix - The Chainsmokers - Closer (Lyric) ft. Halsey\n",
      "4. The Chainsmokers - Closer | Kabira (Vidya Vox Mashup Cover) (ft. Casey Breves)\n",
      "5. The Chainsmokers - Closer (Live from the 2016 MTV VMAs) ft. Halsey\n",
      "6. The Closer MashUp - ( Kabira  ) - Vidya Vox\n",
      "7. Closer - The Chainsmokers ft. Halsey (Boyce Avenue ft. Sarah Hyland cover) on Spotify & iTunes\n",
      "8. The Chainsmokers - Closer (T-Mass Remix Audio) ft. Halsey\n",
      "9. The Chainsmokers - Closer (ft. Halsey)\n",
      "10. \"Closer\" - The Chainsmokers // Halsey (Alex Goot & ATC)\n"
     ]
    }
   ],
   "source": [
    "import requests\n",
    "import os,sys\n",
    "from bs4 import BeautifulSoup\n",
    "search = raw_input('Enter the name of the song: ')\n",
    "url = 'https://www.youtube.com/results?search_query='+search\n",
    "sc = requests.get(url)\n",
    "soup = BeautifulSoup(sc.text,'html.parser')\n",
    "title = soup.findAll('h3',{'class':'yt-lockup-title '})\n",
    "link = []\n",
    "for i in range(min(10,len(title))):\n",
    "    link.append(title[i].find('a')['href'])\n",
    "for i in range(min(10,len(title))):\n",
    "    print (str(i+1)+'. '+title[i].find('a').text)"
   ]
  },
  {
   "cell_type": "code",
   "execution_count": null,
   "metadata": {
    "collapsed": false
   },
   "outputs": [],
   "source": [
    "os.system(\"youtube-dl --extract-audio --audio-format mp3 \" + 'https://www.youtube.com'+link[2])"
   ]
  },
  {
   "cell_type": "markdown",
   "metadata": {},
   "source": [
    "### Selenium Automation"
   ]
  },
  {
   "cell_type": "code",
   "execution_count": null,
   "metadata": {
    "collapsed": false
   },
   "outputs": [],
   "source": [
    "#DA_AUTO LOGIN SCRIPT\n",
    "#Vineet Mehta\n",
    "from selenium import webdriver\n",
    "from selenium.webdriver.support import ui\n",
    "from selenium.webdriver.common.keys import Keys\n",
    "import time\n",
    "def page_is_loaded(driver):\n",
    "    return driver.find_element_by_tag_name(\"body\") != None\n",
    "options = webdriver.ChromeOptions()\n",
    "#options.add_argument('--ignore-certificate-errors')\n",
    "\n",
    "driver = webdriver.Chrome('/home/vineet/Downloads/chromedriver',chrome_options=options)\n",
    "driver.get(\"https://10.100.56.55:8090/httpclient.html\")\n",
    "wait = ui.WebDriverWait(driver, 10)\n",
    "wait.until(page_is_loaded)\n",
    "email_field = driver.find_element_by_name(\"username\")\n",
    "email_field.send_keys(\"ID\")\n",
    "password_field = driver.find_element_by_name(\"password\")\n",
    "password_field.send_keys(\"PASSWORD\")\n",
    "password_field.send_keys(Keys.RETURN)\n",
    "time.sleep(5)\n",
    "driver.quit();\n"
   ]
  },
  {
   "cell_type": "code",
   "execution_count": null,
   "metadata": {
    "collapsed": true
   },
   "outputs": [],
   "source": []
  }
 ],
 "metadata": {
  "kernelspec": {
   "display_name": "Python 2",
   "language": "python",
   "name": "python2"
  },
  "language_info": {
   "codemirror_mode": {
    "name": "ipython",
    "version": 2
   },
   "file_extension": ".py",
   "mimetype": "text/x-python",
   "name": "python",
   "nbconvert_exporter": "python",
   "pygments_lexer": "ipython2",
   "version": "2.7.12"
  }
 },
 "nbformat": 4,
 "nbformat_minor": 2
}
